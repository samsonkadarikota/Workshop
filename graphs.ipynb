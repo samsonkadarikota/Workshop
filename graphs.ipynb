{
 "cells": [
  {
   "cell_type": "code",
   "execution_count": 13,
   "id": "99c3281f",
   "metadata": {},
   "outputs": [],
   "source": [
    "from langchain_groq import ChatGroq\n",
    "from typing import Annotated\n",
    "from typing_extensions import TypedDict\n",
    "from langgraph.graph import StateGraph, START, END\n",
    "from langgraph.graph.message import add_messages\n",
    "from IPython.display import Image, display"
   ]
  },
  {
   "cell_type": "code",
   "execution_count": 14,
   "id": "b12941eb",
   "metadata": {},
   "outputs": [],
   "source": [
    "from langchain_groq import ChatGroq"
   ]
  },
  {
   "cell_type": "code",
   "execution_count": 47,
   "id": "0775dba1",
   "metadata": {},
   "outputs": [],
   "source": [
    "groq_api_key = \"enter your api key\"\n",
    "llm = ChatGroq(groq_api_key=groq_api_key, model_name = \"Gemma2-9b-it\")"
   ]
  },
  {
   "cell_type": "code",
   "execution_count": 33,
   "id": "8bcce00a",
   "metadata": {},
   "outputs": [],
   "source": [
    "class State(TypedDict):\n",
    "    messages:Annotated[list, add_messages]\n",
    "    sentiment: str\n",
    "    \n",
    "def preprocess(state: State) -> State:\n",
    "    cleaned = state['messages'][-1].content.strip()\n",
    "    state['messages'][-1].content = cleaned\n",
    "    return state\n",
    "\n",
    "def analyze_sentiment(state: State) -> State:\n",
    "    msg = state[\"messages\"][-1].content\n",
    "    state[\"sentiment\"] = 'positive' if 'good' in msg else 'netural'\n",
    "    return state\n",
    "\n",
    "def chatbot(state: State) -> State:\n",
    "    return {'messages': llm.invoke(state['messages'])}\n",
    "\n",
    "def logger(state: State) -> State:\n",
    "    print(f'LOG:{state['messages'][-1].content}, Sentiment: {state.get('sentiment')}')\n",
    "    return state"
   ]
  },
  {
   "cell_type": "code",
   "execution_count": 38,
   "id": "79a9c726",
   "metadata": {},
   "outputs": [
    {
     "data": {
      "text/plain": [
       "<langgraph.graph.state.StateGraph at 0x24e52e16f90>"
      ]
     },
     "execution_count": 38,
     "metadata": {},
     "output_type": "execute_result"
    }
   ],
   "source": [
    "builder = StateGraph(State)\n",
    "builder.add_node('preprocess', preprocess)\n",
    "builder.add_node('analyze_sentiment', analyze_sentiment)\n",
    "builder.add_node('chatbot',chatbot)\n",
    "builder.add_node('logger', logger)"
   ]
  },
  {
   "cell_type": "code",
   "execution_count": 39,
   "id": "806ffe91",
   "metadata": {},
   "outputs": [
    {
     "data": {
      "text/plain": [
       "<langgraph.graph.state.StateGraph at 0x24e52e16f90>"
      ]
     },
     "execution_count": 39,
     "metadata": {},
     "output_type": "execute_result"
    }
   ],
   "source": [
    "builder.add_edge(START, 'preprocess')\n",
    "builder.add_edge('preprocess','analyze_sentiment')\n",
    "builder.add_edge('analyze_sentiment', 'chatbot')\n",
    "builder.add_edge('chatbot', 'logger')\n",
    "builder.add_edge('logger', END)"
   ]
  },
  {
   "cell_type": "code",
   "execution_count": 40,
   "id": "3c3df6ba",
   "metadata": {},
   "outputs": [
    {
     "data": {
      "image/png": "[encoded data removed]",
      "text/plain": [
       "<langgraph.graph.state.CompiledStateGraph object at 0x0000024E52CF85F0>"
      ]
     },
     "execution_count": 40,
     "metadata": {},
     "output_type": "execute_result"
    }
   ],
   "source": [
    "builder.compile()"
   ]
  },
  {
   "cell_type": "code",
   "execution_count": 42,
   "id": "d47c3511",
   "metadata": {},
   "outputs": [],
   "source": [
    "graph = builder.compile()"
   ]
  },
  {
   "cell_type": "code",
   "execution_count": 46,
   "id": "b0d6e54d",
   "metadata": {},
   "outputs": [
    {
     "name": "stdout",
     "output_type": "stream",
     "text": [
      "LOG:Please provide me with more information about Samson Kadarikota's training program! I need context to help you. \n",
      "\n",
      "For example, tell me:\n",
      "\n",
      "* **What is Samson Kadarikota's field?**  Is he an athlete, a musician, a programmer, etc.?\n",
      "* **What are his goals?** What does he hope to achieve with his training?\n",
      "* **What kind of information are you looking for?** Do you want a sample workout plan, advice on nutrition, tips for motivation, or something else?\n",
      "\n",
      "The more details you give me, the better I can assist you in creating a helpful and relevant training program for Samson. \n",
      ", Sentiment: netural\n",
      "Final state: {'messages': [HumanMessage(content='This is Samson Kadarikota training program', additional_kwargs={}, response_metadata={}, id='8e04b5ee-3034-46ed-a6dc-6bb51947ffdc'), AIMessage(content=\"Please provide me with more information about Samson Kadarikota's training program! I need context to help you. \\n\\nFor example, tell me:\\n\\n* **What is Samson Kadarikota's field?**  Is he an athlete, a musician, a programmer, etc.?\\n* **What are his goals?** What does he hope to achieve with his training?\\n* **What kind of information are you looking for?** Do you want a sample workout plan, advice on nutrition, tips for motivation, or something else?\\n\\nThe more details you give me, the better I can assist you in creating a helpful and relevant training program for Samson. \\n\", additional_kwargs={}, response_metadata={'token_usage': {'completion_tokens': 140, 'prompt_tokens': 17, 'total_tokens': 157, 'completion_time': 0.254545455, 'prompt_time': 0.001936306, 'queue_time': 0.245449837, 'total_time': 0.256481761}, 'model_name': 'Gemma2-9b-it', 'system_fingerprint': 'fp_10c08bf97d', 'finish_reason': 'stop', 'logprobs': None}, id='run--c5d01cbd-1499-4809-b36a-fca79760de7c-0', usage_metadata={'input_tokens': 17, 'output_tokens': 140, 'total_tokens': 157})], 'sentiment': 'netural'}\n",
      "chatbots response: Please provide me with more information about Samson Kadarikota's training program! I need context to help you. \n",
      "\n",
      "For example, tell me:\n",
      "\n",
      "* **What is Samson Kadarikota's field?**  Is he an athlete, a musician, a programmer, etc.?\n",
      "* **What are his goals?** What does he hope to achieve with his training?\n",
      "* **What kind of information are you looking for?** Do you want a sample workout plan, advice on nutrition, tips for motivation, or something else?\n",
      "\n",
      "The more details you give me, the better I can assist you in creating a helpful and relevant training program for Samson. \n",
      "\n",
      "Detected sentiment: netural\n",
      "LOG:You are correct!  \n",
      "\n",
      "That statement is indeed neutral.  It doesn't express an opinion, belief, or emotion. 👍 \n",
      "\n",
      ", Sentiment: netural\n",
      "Final state 2: {'messages': [HumanMessage(content='This is netural message', additional_kwargs={}, response_metadata={}, id='c6677be8-7d2b-4f87-bd5b-0f77d205cf17'), AIMessage(content=\"You are correct!  \\n\\nThat statement is indeed neutral.  It doesn't express an opinion, belief, or emotion. 👍 \\n\\n\", additional_kwargs={}, response_metadata={'token_usage': {'completion_tokens': 32, 'prompt_tokens': 14, 'total_tokens': 46, 'completion_time': 0.058181818, 'prompt_time': 0.001905557, 'queue_time': 0.24224310699999999, 'total_time': 0.060087375}, 'model_name': 'Gemma2-9b-it', 'system_fingerprint': 'fp_10c08bf97d', 'finish_reason': 'stop', 'logprobs': None}, id='run--34528a87-1100-4924-9251-584669a0f485-0', usage_metadata={'input_tokens': 14, 'output_tokens': 32, 'total_tokens': 46})], 'sentiment': 'netural'}\n",
      "chatbots response 2: You are correct!  \n",
      "\n",
      "That statement is indeed neutral.  It doesn't express an opinion, belief, or emotion. 👍 \n",
      "\n",
      "\n",
      "Detected sentiment 2: netural\n"
     ]
    }
   ],
   "source": [
    "input_message = 'This is Samson Kadarikota training program'\n",
    "final_state = graph.invoke({\"messages\":('user', input_message)})\n",
    "\n",
    "print('Final state:', final_state)\n",
    "print('chatbots response:', final_state['messages'][-1].content)\n",
    "print('Detected sentiment:', final_state['sentiment'])\n",
    "\n",
    "input_message_2 = 'This is netural message'\n",
    "final_state_2 = graph.invoke({\"messages\":('user', input_message_2)})\n",
    "\n",
    "print('Final state 2:', final_state_2)\n",
    "print('chatbots response 2:', final_state_2['messages'][-1].content)\n",
    "print('Detected sentiment 2:', final_state_2['sentiment'])"
   ]
  }
 ],
 "metadata": {
  "kernelspec": {
   "display_name": "Python 3",
   "language": "python",
   "name": "python3"
  },
  "language_info": {
   "codemirror_mode": {
    "name": "ipython",
    "version": 3
   },
   "file_extension": ".py",
   "mimetype": "text/x-python",
   "name": "python",
   "nbconvert_exporter": "python",
   "pygments_lexer": "ipython3",
   "version": "3.12.1"
  }
 },
 "nbformat": 4,
 "nbformat_minor": 5
}
