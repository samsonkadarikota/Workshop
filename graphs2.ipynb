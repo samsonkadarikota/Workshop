{
 "cells": [
  {
   "cell_type": "code",
   "execution_count": 14,
   "id": "08fb1621",
   "metadata": {},
   "outputs": [
    {
     "name": "stdout",
     "output_type": "stream",
     "text": [
      "Requirement already satisfied: langchain in c:\\users\\samua\\appdata\\local\\programs\\python\\python312\\lib\\site-packages (0.3.25)\n",
      "Requirement already satisfied: langgraph in c:\\users\\samua\\appdata\\local\\programs\\python\\python312\\lib\\site-packages (0.4.7)\n",
      "Requirement already satisfied: langsmith in c:\\users\\samua\\appdata\\local\\programs\\python\\python312\\lib\\site-packages (0.3.43)\n",
      "Note: you may need to restart the kernel to use updated packages.\n"
     ]
    },
    {
     "name": "stderr",
     "output_type": "stream",
     "text": [
      "ERROR: Could not find a version that satisfies the requirement lanchain-groq (from versions: none)\n",
      "ERROR: No matching distribution found for lanchain-groq\n"
     ]
    }
   ],
   "source": [
    "%pip install langchain langgraph langsmith lanchain-groq langchain_community"
   ]
  },
  {
   "cell_type": "code",
   "execution_count": 20,
   "id": "3a4834da",
   "metadata": {},
   "outputs": [],
   "source": [
    "groq_api_key = \"enter your api key\""
   ]
  },
  {
   "cell_type": "code",
   "execution_count": 3,
   "id": "da3c0f65",
   "metadata": {},
   "outputs": [],
   "source": [
    "from langchain_groq import ChatGroq"
   ]
  },
  {
   "cell_type": "code",
   "execution_count": 4,
   "id": "8771610a",
   "metadata": {},
   "outputs": [],
   "source": [
    "llm = ChatGroq(groq_api_key=groq_api_key, model_name = \"Gemma2-9b-it\")"
   ]
  },
  {
   "cell_type": "code",
   "execution_count": 5,
   "id": "c060717d",
   "metadata": {},
   "outputs": [],
   "source": [
    "from typing import Annotated\n",
    "from typing_extensions import TypedDict\n",
    "from langgraph.graph.message import add_messages\n",
    "from langgraph.graph import StateGraph,START,END"
   ]
  },
  {
   "cell_type": "code",
   "execution_count": 6,
   "id": "4ec6c285",
   "metadata": {},
   "outputs": [],
   "source": [
    "class State(TypedDict):\n",
    "    messages:Annotated[list,add_messages]\n",
    "    \n",
    "graph_builder=StateGraph(State)"
   ]
  },
  {
   "cell_type": "code",
   "execution_count": 8,
   "id": "635683a0",
   "metadata": {},
   "outputs": [
    {
     "data": {
      "text/plain": [
       "<langgraph.graph.state.StateGraph at 0x20417706570>"
      ]
     },
     "execution_count": 8,
     "metadata": {},
     "output_type": "execute_result"
    }
   ],
   "source": [
    "graph_builder"
   ]
  },
  {
   "cell_type": "code",
   "execution_count": 9,
   "id": "c5212660",
   "metadata": {},
   "outputs": [],
   "source": [
    "def chatbot(state:State):\n",
    "    return{\"messages\":llm.invoke(state['messages'])}"
   ]
  },
  {
   "cell_type": "code",
   "execution_count": 10,
   "id": "7517d3c8",
   "metadata": {},
   "outputs": [
    {
     "data": {
      "text/plain": [
       "<langgraph.graph.state.StateGraph at 0x20417706570>"
      ]
     },
     "execution_count": 10,
     "metadata": {},
     "output_type": "execute_result"
    }
   ],
   "source": [
    "graph_builder.add_node('chatbot',chatbot)"
   ]
  },
  {
   "cell_type": "code",
   "execution_count": 11,
   "id": "c499c2c7",
   "metadata": {},
   "outputs": [
    {
     "data": {
      "text/plain": [
       "<langgraph.graph.state.StateGraph at 0x20417706570>"
      ]
     },
     "execution_count": 11,
     "metadata": {},
     "output_type": "execute_result"
    }
   ],
   "source": [
    "graph_builder"
   ]
  },
  {
   "cell_type": "code",
   "execution_count": 12,
   "id": "d237923e",
   "metadata": {},
   "outputs": [
    {
     "data": {
      "text/plain": [
       "<langgraph.graph.state.StateGraph at 0x20417706570>"
      ]
     },
     "execution_count": 12,
     "metadata": {},
     "output_type": "execute_result"
    }
   ],
   "source": [
    "graph_builder.add_edge(START, 'chatbot')\n",
    "graph_builder.add_edge('chatbot', END)"
   ]
  },
  {
   "cell_type": "code",
   "execution_count": 13,
   "id": "9165262d",
   "metadata": {},
   "outputs": [
    {
     "data": {
      "image/png": "[encoded data removed]",
      "text/plain": [
       "<langgraph.graph.state.CompiledStateGraph object at 0x0000020417705490>"
      ]
     },
     "execution_count": 13,
     "metadata": {},
     "output_type": "execute_result"
    }
   ],
   "source": [
    "graph_builder.compile()"
   ]
  },
  {
   "cell_type": "code",
   "execution_count": 15,
   "id": "470d1b41",
   "metadata": {},
   "outputs": [],
   "source": [
    "graph = graph_builder.compile()"
   ]
  },
  {
   "cell_type": "code",
   "execution_count": 19,
   "id": "5012e70c",
   "metadata": {},
   "outputs": [
    {
     "name": "stdout",
     "output_type": "stream",
     "text": [
      "dict_values([{'messages': AIMessage(content='## AI Agents: The Future of Automation\\n\\nAI agents are software programs that can perform tasks autonomously, often by interacting with their environment and making decisions based on their goals.  \\n\\nThink of them like virtual assistants on steroids. \\n\\n**Here\\'s a breakdown of what makes AI agents special:**\\n\\n* **Autonomy:** They can operate independently without constant human intervention.\\n* **Goal-Oriented:** They are programmed with specific objectives and work towards achieving them.\\n* **Adaptive:** Many AI agents can learn and adapt their behavior based on experience and feedback.\\n* **Interactive:** They can interact with their environment through various means, like APIs, sensors, or user interfaces.\\n\\n**Types of AI Agents:**\\n\\n* **Simple Reflex Agents:** React directly to their current perception, lacking memory of past events.\\n\\n* **Model-Based Reflex Agents:** Maintain an internal model of the world to make more informed decisions.\\n\\n* **Goal-Based Agents:** Possess goals and plan actions to achieve them.\\n* **Utility-Based Agents:**  Maximize a \"utility\" function, which represents their desired outcome.\\n* **Learning Agents:**  Improve their performance over time by learning from data and experience.\\n\\n**Applications of AI Agents:**\\n\\nThe potential applications of AI agents are vast and growing rapidly:\\n\\n* **Customer service:** Chatbots and virtual assistants providing instant support.\\n* **Robotics:** Autonomous robots performing tasks in manufacturing, logistics, and healthcare.\\n* **Finance:**  Analyzing financial data, detecting fraud, and automating trading.\\n* **Education:** Personalized learning experiences and automated grading.\\n* **Healthcare:**  Assisting doctors in diagnosis, scheduling appointments, and monitoring patients.\\n\\n**Challenges and Ethical Considerations:**\\n\\nWhile promising, AI agents also pose challenges and ethical considerations:\\n\\n* **Job displacement:** Automation may lead to job losses in certain sectors.\\n* **Bias and fairness:** AI agents can inherit and amplify biases present in the data they are trained on.\\n* **Transparency and accountability:** It can be difficult to understand how complex AI agents make decisions, raising concerns about accountability.\\n* **Security and safety:** Malicious actors could exploit AI agents for harmful purposes.\\n\\n\\n**The Future of AI Agents:**\\n\\nAI agents are still in their early stages of development, but they are rapidly advancing. As research progresses and technology improves, we can expect to see even more sophisticated and capable AI agents in the years to come, transforming various aspects of our lives.\\n', additional_kwargs={}, response_metadata={'token_usage': {'completion_tokens': 510, 'prompt_tokens': 11, 'total_tokens': 521, 'completion_time': 0.927272727, 'prompt_time': 0.001910336, 'queue_time': 0.298642158, 'total_time': 0.929183063}, 'model_name': 'Gemma2-9b-it', 'system_fingerprint': 'fp_10c08bf97d', 'finish_reason': 'stop', 'logprobs': None}, id='run--76415f2c-0c28-4114-9dc1-9f5f4344980b-0', usage_metadata={'input_tokens': 11, 'output_tokens': 510, 'total_tokens': 521})}])\n",
      "content='## AI Agents: The Future of Automation\\n\\nAI agents are software programs that can perform tasks autonomously, often by interacting with their environment and making decisions based on their goals.  \\n\\nThink of them like virtual assistants on steroids. \\n\\n**Here\\'s a breakdown of what makes AI agents special:**\\n\\n* **Autonomy:** They can operate independently without constant human intervention.\\n* **Goal-Oriented:** They are programmed with specific objectives and work towards achieving them.\\n* **Adaptive:** Many AI agents can learn and adapt their behavior based on experience and feedback.\\n* **Interactive:** They can interact with their environment through various means, like APIs, sensors, or user interfaces.\\n\\n**Types of AI Agents:**\\n\\n* **Simple Reflex Agents:** React directly to their current perception, lacking memory of past events.\\n\\n* **Model-Based Reflex Agents:** Maintain an internal model of the world to make more informed decisions.\\n\\n* **Goal-Based Agents:** Possess goals and plan actions to achieve them.\\n* **Utility-Based Agents:**  Maximize a \"utility\" function, which represents their desired outcome.\\n* **Learning Agents:**  Improve their performance over time by learning from data and experience.\\n\\n**Applications of AI Agents:**\\n\\nThe potential applications of AI agents are vast and growing rapidly:\\n\\n* **Customer service:** Chatbots and virtual assistants providing instant support.\\n* **Robotics:** Autonomous robots performing tasks in manufacturing, logistics, and healthcare.\\n* **Finance:**  Analyzing financial data, detecting fraud, and automating trading.\\n* **Education:** Personalized learning experiences and automated grading.\\n* **Healthcare:**  Assisting doctors in diagnosis, scheduling appointments, and monitoring patients.\\n\\n**Challenges and Ethical Considerations:**\\n\\nWhile promising, AI agents also pose challenges and ethical considerations:\\n\\n* **Job displacement:** Automation may lead to job losses in certain sectors.\\n* **Bias and fairness:** AI agents can inherit and amplify biases present in the data they are trained on.\\n* **Transparency and accountability:** It can be difficult to understand how complex AI agents make decisions, raising concerns about accountability.\\n* **Security and safety:** Malicious actors could exploit AI agents for harmful purposes.\\n\\n\\n**The Future of AI Agents:**\\n\\nAI agents are still in their early stages of development, but they are rapidly advancing. As research progresses and technology improves, we can expect to see even more sophisticated and capable AI agents in the years to come, transforming various aspects of our lives.\\n' additional_kwargs={} response_metadata={'token_usage': {'completion_tokens': 510, 'prompt_tokens': 11, 'total_tokens': 521, 'completion_time': 0.927272727, 'prompt_time': 0.001910336, 'queue_time': 0.298642158, 'total_time': 0.929183063}, 'model_name': 'Gemma2-9b-it', 'system_fingerprint': 'fp_10c08bf97d', 'finish_reason': 'stop', 'logprobs': None} id='run--76415f2c-0c28-4114-9dc1-9f5f4344980b-0' usage_metadata={'input_tokens': 11, 'output_tokens': 510, 'total_tokens': 521}\n",
      "Assistant: ## AI Agents: The Future of Automation\n",
      "\n",
      "AI agents are software programs that can perform tasks autonomously, often by interacting with their environment and making decisions based on their goals.  \n",
      "\n",
      "Think of them like virtual assistants on steroids. \n",
      "\n",
      "**Here's a breakdown of what makes AI agents special:**\n",
      "\n",
      "* **Autonomy:** They can operate independently without constant human intervention.\n",
      "* **Goal-Oriented:** They are programmed with specific objectives and work towards achieving them.\n",
      "* **Adaptive:** Many AI agents can learn and adapt their behavior based on experience and feedback.\n",
      "* **Interactive:** They can interact with their environment through various means, like APIs, sensors, or user interfaces.\n",
      "\n",
      "**Types of AI Agents:**\n",
      "\n",
      "* **Simple Reflex Agents:** React directly to their current perception, lacking memory of past events.\n",
      "\n",
      "* **Model-Based Reflex Agents:** Maintain an internal model of the world to make more informed decisions.\n",
      "\n",
      "* **Goal-Based Agents:** Possess goals and plan actions to achieve them.\n",
      "* **Utility-Based Agents:**  Maximize a \"utility\" function, which represents their desired outcome.\n",
      "* **Learning Agents:**  Improve their performance over time by learning from data and experience.\n",
      "\n",
      "**Applications of AI Agents:**\n",
      "\n",
      "The potential applications of AI agents are vast and growing rapidly:\n",
      "\n",
      "* **Customer service:** Chatbots and virtual assistants providing instant support.\n",
      "* **Robotics:** Autonomous robots performing tasks in manufacturing, logistics, and healthcare.\n",
      "* **Finance:**  Analyzing financial data, detecting fraud, and automating trading.\n",
      "* **Education:** Personalized learning experiences and automated grading.\n",
      "* **Healthcare:**  Assisting doctors in diagnosis, scheduling appointments, and monitoring patients.\n",
      "\n",
      "**Challenges and Ethical Considerations:**\n",
      "\n",
      "While promising, AI agents also pose challenges and ethical considerations:\n",
      "\n",
      "* **Job displacement:** Automation may lead to job losses in certain sectors.\n",
      "* **Bias and fairness:** AI agents can inherit and amplify biases present in the data they are trained on.\n",
      "* **Transparency and accountability:** It can be difficult to understand how complex AI agents make decisions, raising concerns about accountability.\n",
      "* **Security and safety:** Malicious actors could exploit AI agents for harmful purposes.\n",
      "\n",
      "\n",
      "**The Future of AI Agents:**\n",
      "\n",
      "AI agents are still in their early stages of development, but they are rapidly advancing. As research progresses and technology improves, we can expect to see even more sophisticated and capable AI agents in the years to come, transforming various aspects of our lives.\n",
      "\n",
      "Good Bye, thank you using LangGraph Framework create by samson kadarikota\n"
     ]
    }
   ],
   "source": [
    "while True:\n",
    "    user_input=input(\"user:\")\n",
    "    if user_input.lower() in ['quit', 'q']:\n",
    "        print('Good Bye, thank you using LangGraph Framework create by samson kadarikota')\n",
    "        break\n",
    "    for event in graph.stream({'messages':('user', user_input)}):\n",
    "        print(event.values())\n",
    "        for value in event.values():\n",
    "            print(value['messages'])\n",
    "            print('Assistant:', value['messages'].content)"
   ]
  },
  {
   "cell_type": "code",
   "execution_count": 21,
   "id": "7ad047bc",
   "metadata": {},
   "outputs": [
    {
     "data": {
      "text/plain": [
       "<langgraph.graph.state.StateGraph at 0x20417706570>"
      ]
     },
     "execution_count": 21,
     "metadata": {},
     "output_type": "execute_result"
    }
   ],
   "source": [
    "graph_builder"
   ]
  },
  {
   "cell_type": "code",
   "execution_count": null,
   "id": "06124272",
   "metadata": {},
   "outputs": [],
   "source": []
  }
 ],
 "metadata": {
  "kernelspec": {
   "display_name": "Python 3",
   "language": "python",
   "name": "python3"
  },
  "language_info": {
   "codemirror_mode": {
    "name": "ipython",
    "version": 3
   },
   "file_extension": ".py",
   "mimetype": "text/x-python",
   "name": "python",
   "nbconvert_exporter": "python",
   "pygments_lexer": "ipython3",
   "version": "3.12.1"
  }
 },
 "nbformat": 4,
 "nbformat_minor": 5
}
